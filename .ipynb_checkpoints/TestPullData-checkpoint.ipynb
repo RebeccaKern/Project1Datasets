{
 "cells": [
  {
   "cell_type": "code",
   "execution_count": null,
   "metadata": {
    "collapsed": true
   },
   "outputs": [],
   "source": [
    "UseGitHub = True\n",
    "if UseGitHub:\n",
    " prefix = 'https://raw.githubusercontent.com/RebeccaKern/KickStarterData/tree/master/Kickstarter_2017-01-15T22_21_04_985Z'\n",
    "else:\n",
    " prefix = '' # load locally\n",
    "kick1_csv = prefix+'KickStarter.csv'"
   ]
  }
 ],
 "metadata": {
  "kernelspec": {
   "display_name": "Python 3",
   "language": "python",
   "name": "python3"
  },
  "language_info": {
   "codemirror_mode": {
    "name": "ipython",
    "version": 3
   },
   "file_extension": ".py",
   "mimetype": "text/x-python",
   "name": "python",
   "nbconvert_exporter": "python",
   "pygments_lexer": "ipython3",
   "version": "3.5.2"
  }
 },
 "nbformat": 4,
 "nbformat_minor": 1
}
